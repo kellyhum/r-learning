{
 "cells": [
  {
   "cell_type": "markdown",
   "id": "87a96894-1ccb-428b-a890-542f98250f5d",
   "metadata": {},
   "source": [
    "practicing from [Scribbr](https://www.scribbr.com/statistics/anova-in-r/) and [Statology](https://www.statology.org/interpret-anova-results-in-r/)"
   ]
  },
  {
   "cell_type": "code",
   "execution_count": 42,
   "id": "3c22f463-a3cb-4584-8052-eaa55be37dd0",
   "metadata": {
    "vscode": {
     "languageId": "r"
    }
   },
   "outputs": [],
   "source": [
    "# load libraries\n",
    "library('tidyverse')"
   ]
  },
  {
   "cell_type": "code",
   "execution_count": 43,
   "id": "909ca631-dd77-4db7-b07d-e5f0d3d6bfd1",
   "metadata": {
    "scrolled": true,
    "vscode": {
     "languageId": "r"
    }
   },
   "outputs": [
    {
     "data": {
      "text/html": [
       "<table class=\"dataframe\">\n",
       "<caption>A data.frame: 5 × 4</caption>\n",
       "<thead>\n",
       "\t<tr><th></th><th scope=col>density</th><th scope=col>block</th><th scope=col>fertilizer</th><th scope=col>yield</th></tr>\n",
       "\t<tr><th></th><th scope=col>&lt;int&gt;</th><th scope=col>&lt;int&gt;</th><th scope=col>&lt;int&gt;</th><th scope=col>&lt;dbl&gt;</th></tr>\n",
       "</thead>\n",
       "<tbody>\n",
       "\t<tr><th scope=row>1</th><td>1</td><td>1</td><td>1</td><td>177.2287</td></tr>\n",
       "\t<tr><th scope=row>2</th><td>2</td><td>2</td><td>1</td><td>177.5500</td></tr>\n",
       "\t<tr><th scope=row>3</th><td>1</td><td>3</td><td>1</td><td>176.4085</td></tr>\n",
       "\t<tr><th scope=row>4</th><td>2</td><td>4</td><td>1</td><td>177.7036</td></tr>\n",
       "\t<tr><th scope=row>5</th><td>1</td><td>1</td><td>1</td><td>177.1255</td></tr>\n",
       "</tbody>\n",
       "</table>\n"
      ],
      "text/latex": [
       "A data.frame: 5 × 4\n",
       "\\begin{tabular}{r|llll}\n",
       "  & density & block & fertilizer & yield\\\\\n",
       "  & <int> & <int> & <int> & <dbl>\\\\\n",
       "\\hline\n",
       "\t1 & 1 & 1 & 1 & 177.2287\\\\\n",
       "\t2 & 2 & 2 & 1 & 177.5500\\\\\n",
       "\t3 & 1 & 3 & 1 & 176.4085\\\\\n",
       "\t4 & 2 & 4 & 1 & 177.7036\\\\\n",
       "\t5 & 1 & 1 & 1 & 177.1255\\\\\n",
       "\\end{tabular}\n"
      ],
      "text/markdown": [
       "\n",
       "A data.frame: 5 × 4\n",
       "\n",
       "| <!--/--> | density &lt;int&gt; | block &lt;int&gt; | fertilizer &lt;int&gt; | yield &lt;dbl&gt; |\n",
       "|---|---|---|---|---|\n",
       "| 1 | 1 | 1 | 1 | 177.2287 |\n",
       "| 2 | 2 | 2 | 1 | 177.5500 |\n",
       "| 3 | 1 | 3 | 1 | 176.4085 |\n",
       "| 4 | 2 | 4 | 1 | 177.7036 |\n",
       "| 5 | 1 | 1 | 1 | 177.1255 |\n",
       "\n"
      ],
      "text/plain": [
       "  density block fertilizer yield   \n",
       "1 1       1     1          177.2287\n",
       "2 2       2     1          177.5500\n",
       "3 1       3     1          176.4085\n",
       "4 2       4     1          177.7036\n",
       "5 1       1     1          177.1255"
      ]
     },
     "metadata": {},
     "output_type": "display_data"
    },
    {
     "data": {
      "text/plain": [
       "    density        block        fertilizer     yield      \n",
       " Min.   :1.0   Min.   :1.00   Min.   :1    Min.   :175.4  \n",
       " 1st Qu.:1.0   1st Qu.:1.75   1st Qu.:1    1st Qu.:176.5  \n",
       " Median :1.5   Median :2.50   Median :2    Median :177.1  \n",
       " Mean   :1.5   Mean   :2.50   Mean   :2    Mean   :177.0  \n",
       " 3rd Qu.:2.0   3rd Qu.:3.25   3rd Qu.:3    3rd Qu.:177.4  \n",
       " Max.   :2.0   Max.   :4.00   Max.   :3    Max.   :179.1  "
      ]
     },
     "metadata": {},
     "output_type": "display_data"
    }
   ],
   "source": [
    "# load data \n",
    "corn_data <- read.csv('./data/anova_test.csv',\n",
    "                     colClasses = c('factor', 'factor', 'factor', 'numeric')) # what is the significance of colClasses asides from speed?\n",
    "head(corn_data, 5) # show only the top 5 rows\n",
    "summary(corn_data)"
   ]
  },
  {
   "cell_type": "code",
   "execution_count": 44,
   "id": "99530cdc-27ba-4fa0-9ef4-76948080f8ad",
   "metadata": {},
   "outputs": [
    {
     "data": {
      "text/plain": [
       "            Df Sum Sq Mean Sq F value   Pr(>F)    \n",
       "fertilizer   1   5.74   5.743   14.91 0.000207 ***\n",
       "Residuals   94  36.21   0.385                     \n",
       "---\n",
       "Signif. codes:  0 ‘***’ 0.001 ‘**’ 0.01 ‘*’ 0.05 ‘.’ 0.1 ‘ ’ 1"
      ]
     },
     "metadata": {},
     "output_type": "display_data"
    }
   ],
   "source": [
    "# \"yield depends on fertilizer\", i.e. fertilizer = indep, yield = dep\n",
    "one_way <- aov(yield ~ fertilizer, data = corn_data) \n",
    "\n",
    "summary(one_way) # get deg. of freedom, sum of squares, mean, f and p values"
   ]
  }
 ],
 "metadata": {
  "kernelspec": {
   "display_name": "R",
   "language": "R",
   "name": "ir"
  },
  "language_info": {
   "codemirror_mode": "r",
   "file_extension": ".r",
   "mimetype": "text/x-r-source",
   "name": "R",
   "pygments_lexer": "r",
   "version": "4.4.1"
  }
 },
 "nbformat": 4,
 "nbformat_minor": 5
}
